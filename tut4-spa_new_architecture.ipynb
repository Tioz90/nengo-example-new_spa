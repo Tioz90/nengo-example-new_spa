{
 "cells": [
  {
   "cell_type": "code",
   "execution_count": 46,
   "metadata": {
    "Collapsed": "false"
   },
   "outputs": [],
   "source": [
    "# Structured Representations using SPA (Nengo 3.0)\n",
    "\n",
    "# Setup the environment\n",
    "import matplotlib.pyplot as plt\n",
    "import nengo\n",
    "import nengo_spa as spa\n",
    "import numpy as np\n",
    "\n",
    "D = 32  # the dimensionality of the vectors\n",
    "\n",
    "rng = np.random.RandomState(0)\n",
    "vocab = spa.Vocabulary(dimensions=D, pointer_gen=rng)\n",
    "# Set `C` to equal the convolution of `A` with `B`. This will be\n",
    "# our ground-truth to test the accuracy of the neural network.\n",
    "vocab.populate(\"A;B;Conv=A*B;Sum=A+B\")\n",
    "\n",
    "with spa.Network(vocabs=[vocab]) as model:\n",
    "    A = spa.Transcode(\"A\", output_vocab=D)\n",
    "    B = spa.Transcode(\"B\", output_vocab=D)\n",
    "    \n",
    "    Conv = spa.State(D, feedback=1)\n",
    "    Sum = spa.State(D)\n",
    "\n",
    "    A * B >> Conv\n",
    "    A >> Sum\n",
    "    B >> Sum"
   ]
  },
  {
   "cell_type": "code",
   "execution_count": null,
   "metadata": {
    "Collapsed": "false"
   },
   "outputs": [],
   "source": []
  }
 ],
 "metadata": {
  "kernelspec": {
   "display_name": "Python 3",
   "language": "python",
   "name": "python3"
  },
  "language_info": {
   "codemirror_mode": {
    "name": "ipython",
    "version": 3
   },
   "file_extension": ".py",
   "mimetype": "text/x-python",
   "name": "python",
   "nbconvert_exporter": "python",
   "pygments_lexer": "ipython3",
   "version": "3.7.6"
  }
 },
 "nbformat": 4,
 "nbformat_minor": 4
}
