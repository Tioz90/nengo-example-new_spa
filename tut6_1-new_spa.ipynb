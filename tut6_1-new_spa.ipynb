{
 "cells": [
  {
   "cell_type": "code",
   "execution_count": null,
   "metadata": {},
   "outputs": [],
   "source": [
    "# Sequencing\n",
    "\n",
    "# This model uses the basal ganglia model to cycle through a sequence of five \n",
    "# states (i.e., A->B->C->D->E->A->...). The model incorporates a \n",
    "# working memory component (state), which allows the basal ganglia to update \n",
    "# that memory based on a set of condition/action mappings.\n",
    "\n",
    "# The model has parameters as described in the book. In Nengo 1.4 (and the book) \n",
    "# separate 'Rules' and 'Sequence' classes were created. However, this is not \n",
    "# needed in Nengo 2.0 since you can directly specify the rules using the \n",
    "# built-in 'Actions' class in the spa (semantic pointer architecutre) package. This \n",
    "# class takes a string definition of the action as an input as shown in the code \n",
    "# where '-->' is used to split the action into condition and effect, otherwise \n",
    "# it is treated as having no condition and just effect.\n",
    "\n",
    "# The syntax for creating an input function in Nengo 2.0 is also different from \n",
    "# that in Nengo 1.4 mentioned in the book. The syntax for Nengo 2.0 which is \n",
    "# used here is spa.input(module=function). The first parameter 'module' \n",
    "# refers to name of the module that you want to provide input to and the second \n",
    "# parameter 'function' refers to the function to execute to generate inupts to \n",
    "# that module. The functions should always return strings, which will then be \n",
    "# parsed by the relevant vocabulary.\n",
    "#Setup the environment\n",
    "import nengo                \n",
    "import nengo_spa as spa       #import spa related packages\n",
    "\n",
    "#Number of dimensions for the Semantic Pointers\n",
    "dimensions = 16\n",
    "\n",
    "#Make a model with the SPA network\n",
    "with spa.Network(label=\"Sequence\") as model:\n",
    "    \n",
    "    #Creating a working memory/cortical element \n",
    "    state = spa.State(vocab=dimensions, feedback=1, feedback_synapse=0.01, label=\"WM\")\n",
    "\n",
    "    #Function that provides the model with an initial input semantic pointer.\n",
    "    def start(t):\n",
    "        if t < 0.1:          #Duration of the initial input = 0.1\n",
    "            return 'D'\n",
    "        else:\n",
    "            return '0'\n",
    "        \n",
    "    #Input\n",
    "    visual = spa.Transcode(start, label=\"visual\", output_vocab=dimensions)\n",
    "    visual >> state\n",
    "    \n",
    "    # Actions\n",
    "    with spa.ActionSelection():\n",
    "        spa.ifmax(spa.dot(state, spa.sym.A), spa.sym.B >> state)\n",
    "        spa.ifmax(spa.dot(state, spa.sym.B), spa.sym.C >> state)\n",
    "        spa.ifmax(spa.dot(state, spa.sym.C), spa.sym.D >> state)\n",
    "        spa.ifmax(spa.dot(state, spa.sym.D), spa.sym.E >> state)\n",
    "        spa.ifmax(spa.dot(state, spa.sym.E), spa.sym.A >> state)"
   ]
  }
 ],
 "metadata": {
  "kernelspec": {
   "display_name": "Python 3",
   "language": "python",
   "name": "python3"
  },
  "language_info": {
   "codemirror_mode": {
    "name": "ipython",
    "version": 3
   },
   "file_extension": ".py",
   "mimetype": "text/x-python",
   "name": "python",
   "nbconvert_exporter": "python",
   "pygments_lexer": "ipython3",
   "version": "3.7.6"
  }
 },
 "nbformat": 4,
 "nbformat_minor": 4
}
