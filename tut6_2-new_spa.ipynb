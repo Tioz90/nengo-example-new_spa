{
 "cells": [
  {
   "cell_type": "code",
   "execution_count": 9,
   "metadata": {
    "Collapsed": "false"
   },
   "outputs": [],
   "source": [
    "# Routed Sequencing with Cleanup Memory\n",
    "\n",
    "# This model extends the routed sequencing model by creating a scalar ensemble \n",
    "# 'cleanup' as explained in the book. We project the 'state' on to the \n",
    "# 'cleanup' ensemble using a transformation matrix 'pd', specified by the \n",
    "# vocabulary vector 'A'. This implies that each component of the state vector \n",
    "# (i.e., the cortical element) is multiplied by the corresponding component of \n",
    "# the 'A' vector and summed to produce a one dimensional quantity represented by \n",
    "# the 'cleanup' ensemble. This operation is similar to the dot product of the \n",
    "# state vector and the vocabulary vector 'A'.\n",
    "\n",
    "# This model has parameters as described in the book, with a one dimensional \n",
    "# cleanup ensemble consisting of 100 neurons.\n",
    "\n",
    "# Press the play button in the visualizer to run the simulation. \n",
    "# The graph on the bottom-left shows the semantic pointer representation of the \n",
    "# values stored in the state and the response of the cleanup population is shown \n",
    "# in the graph on the bottom-right. The graph on the top-right shows the utility \n",
    "# (similarity) of the current basal ganglia input (i.e., state) with the \n",
    "# possible vocabulary vectors. Since the cleanup operation is similar to a dot \n",
    "# product between the state of the cortical element (state) and the defined \n",
    "# vocabulary vector 'A', the value of the cleanup population rises only when the\n",
    "# state (top-right graph) is 'A'.\n",
    "\n",
    "#Setup the environment\n",
    "import nengo\n",
    "import nengo_spa as spa     #import spa related packages\n",
    "\n",
    "#Number of dimensions for the Semantic Pointers\n",
    "dimensions = 16\n",
    "\n",
    "#Make a model object with the SPA network\n",
    "with spa.Network(label='Routed_Sequence with cleanupA', seed=12) as model:\n",
    "    #Specify the modules to be used\n",
    "    state = spa.State(dimensions, feedback=1, feedback_synapse=0.01, label=\"WM\")\n",
    "\n",
    "    #Function that provides the model with an initial input semantic pointer.\n",
    "    def start(t):\n",
    "        if t < 0.4:\n",
    "            return '0.8*START+D'\n",
    "        else:\n",
    "            return '0'\n",
    "\n",
    "    #Input\n",
    "    vision = spa.Transcode(start, label=\"vision\", output_vocab=dimensions)\n",
    "    \n",
    "    #Specify the action mapping\n",
    "    with spa.ActionSelection():\n",
    "        spa.ifmax(spa.dot(vision, spa.sym.START), vision >> state)\n",
    "        spa.ifmax(spa.dot(state, spa.sym.A), spa.sym.B >> state)\n",
    "        spa.ifmax(spa.dot(state, spa.sym.B), spa.sym.C >> state)\n",
    "        spa.ifmax(spa.dot(state, spa.sym.C), spa.sym.D >> state)\n",
    "        spa.ifmax(spa.dot(state, spa.sym.D), spa.sym.E >> state)\n",
    "        spa.ifmax(spa.dot(state, spa.sym.E), spa.sym.A >> state)"
   ]
  }
 ],
 "metadata": {
  "kernelspec": {
   "display_name": "Python 3",
   "language": "python",
   "name": "python3"
  },
  "language_info": {
   "codemirror_mode": {
    "name": "ipython",
    "version": 3
   },
   "file_extension": ".py",
   "mimetype": "text/x-python",
   "name": "python",
   "nbconvert_exporter": "python",
   "pygments_lexer": "ipython3",
   "version": "3.7.6"
  }
 },
 "nbformat": 4,
 "nbformat_minor": 4
}
