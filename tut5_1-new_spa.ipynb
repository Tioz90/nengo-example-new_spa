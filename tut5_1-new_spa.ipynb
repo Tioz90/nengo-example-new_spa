{
 "cells": [
  {
   "cell_type": "code",
   "execution_count": null,
   "metadata": {},
   "outputs": [],
   "source": [
    "# Question Answering using SPA\n",
    "\n",
    "# Now we will build this model again, using the spa (semantic pointer \n",
    "# architecture) package built into Nengo 2.0. You will see that using the spa \n",
    "# package considerably simplifies model construction and visualization through \n",
    "# nengo_gui.\n",
    "\n",
    "# Press the play button to run the simulation.\n",
    "# Graphs show the colour, shape and cue inputs. The last graph \n",
    "# shows that the output is most similar to the semantic pointer bound to the \n",
    "# current cue. For example, when RED and CIRCLE are being bound \n",
    "# and the cue is CIRCLE, the output is most similar to RED.\n",
    "\n",
    "# Setup the environment\n",
    "import nengo\n",
    "import nengo_spa as spa\n",
    "from nengo.spa import Vocabulary\n",
    "import numpy as np\n",
    "\n",
    "d = 32  # the dimensionality of the vectors\n",
    "rng = np.random.RandomState(7)\n",
    "vocab = spa.Vocabulary(dimensions=d, pointer_gen=rng, max_similarity=0.1)\n",
    "vocab.populate(\"CIRCLE;BLUE;RED;SQUARE\")\n",
    "vocab.add('ZERO', [0]*d)\n",
    "\n",
    "with spa.Network(vocabs=[vocab]) as model:\n",
    "    \n",
    "    D = spa.State(d, label=\"bound\")\n",
    "    E = spa.State(d, label=\"output\")\n",
    "  \n",
    "    #function for providing color input\n",
    "    def color_input(t):\n",
    "        if (t // 0.5) % 2 == 0:\n",
    "            return 'RED'\n",
    "        else:\n",
    "            return 'BLUE'\n",
    "        \n",
    "    #function for providing shape input\n",
    "    def shape_input(t):\n",
    "        if (t // 0.5) % 2 == 0:\n",
    "            return 'CIRCLE'\n",
    "        else:\n",
    "            return 'SQUARE'\n",
    "\n",
    "    #function for providing the cue\n",
    "    def cue_input(t):\n",
    "        sequence = ['ZERO', 'CIRCLE', 'RED', 'ZERO', 'SQUARE', 'BLUE']\n",
    "        idx = int((t // (1. / len(sequence))) % len(sequence))\n",
    "        return sequence[idx]\n",
    "        \n",
    "    A = spa.Transcode(color_input, label=\"color\", output_vocab=d)\n",
    "    B = spa.Transcode(shape_input, label=\"shape\", output_vocab=d)\n",
    "    C = spa.Transcode(cue_input, label=\"cue\", output_vocab=d)\n",
    "    \n",
    "    A * B >> D\n",
    "    D * ~C >> E"
   ]
  }
 ],
 "metadata": {
  "kernelspec": {
   "display_name": "Python 3",
   "language": "python",
   "name": "python3"
  },
  "language_info": {
   "codemirror_mode": {
    "name": "ipython",
    "version": 3
   },
   "file_extension": ".py",
   "mimetype": "text/x-python",
   "name": "python",
   "nbconvert_exporter": "python",
   "pygments_lexer": "ipython3",
   "version": "3.7.6"
  }
 },
 "nbformat": 4,
 "nbformat_minor": 4
}
